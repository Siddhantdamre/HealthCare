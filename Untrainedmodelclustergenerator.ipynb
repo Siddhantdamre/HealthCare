{
  "nbformat": 4,
  "nbformat_minor": 0,
  "metadata": {
    "colab": {
      "provenance": [],
      "authorship_tag": "ABX9TyO3I+2iGxKxpCOatcBWykHD",
      "include_colab_link": true
    },
    "kernelspec": {
      "name": "python3",
      "display_name": "Python 3"
    },
    "language_info": {
      "name": "python"
    }
  },
  "cells": [
    {
      "cell_type": "markdown",
      "metadata": {
        "id": "view-in-github",
        "colab_type": "text"
      },
      "source": [
        "<a href=\"https://colab.research.google.com/github/Siddhantdamre/HealthCare/blob/main/Untrainedmodelclustergenerator.ipynb\" target=\"_parent\"><img src=\"https://colab.research.google.com/assets/colab-badge.svg\" alt=\"Open In Colab\"/></a>"
      ]
    },
    {
      "cell_type": "code",
      "execution_count": 5,
      "metadata": {
        "colab": {
          "base_uri": "https://localhost:8080/"
        },
        "id": "R0kvRr03NWUP",
        "outputId": "9ad409f9-5baa-4b61-b862-dd98c884a201"
      },
      "outputs": [
        {
          "output_type": "stream",
          "name": "stdout",
          "text": [
            "Requirement already satisfied: torch in /usr/local/lib/python3.11/dist-packages (2.5.1+cu124)\n",
            "Requirement already satisfied: transformers in /usr/local/lib/python3.11/dist-packages (4.48.3)\n",
            "Requirement already satisfied: easyocr in /usr/local/lib/python3.11/dist-packages (1.7.2)\n",
            "Requirement already satisfied: pdf2image in /usr/local/lib/python3.11/dist-packages (1.17.0)\n",
            "Requirement already satisfied: hdbscan in /usr/local/lib/python3.11/dist-packages (0.8.40)\n",
            "Requirement already satisfied: pandas in /usr/local/lib/python3.11/dist-packages (2.2.2)\n",
            "Requirement already satisfied: matplotlib in /usr/local/lib/python3.11/dist-packages (3.10.0)\n",
            "Requirement already satisfied: seaborn in /usr/local/lib/python3.11/dist-packages (0.13.2)\n",
            "Requirement already satisfied: scikit-learn in /usr/local/lib/python3.11/dist-packages (1.6.1)\n",
            "Requirement already satisfied: django in /usr/local/lib/python3.11/dist-packages (5.1.7)\n",
            "Requirement already satisfied: djangorestframework in /usr/local/lib/python3.11/dist-packages (3.15.2)\n",
            "Requirement already satisfied: filelock in /usr/local/lib/python3.11/dist-packages (from torch) (3.17.0)\n",
            "Requirement already satisfied: typing-extensions>=4.8.0 in /usr/local/lib/python3.11/dist-packages (from torch) (4.12.2)\n",
            "Requirement already satisfied: networkx in /usr/local/lib/python3.11/dist-packages (from torch) (3.4.2)\n",
            "Requirement already satisfied: jinja2 in /usr/local/lib/python3.11/dist-packages (from torch) (3.1.6)\n",
            "Requirement already satisfied: fsspec in /usr/local/lib/python3.11/dist-packages (from torch) (2024.10.0)\n",
            "Requirement already satisfied: nvidia-cuda-nvrtc-cu12==12.4.127 in /usr/local/lib/python3.11/dist-packages (from torch) (12.4.127)\n",
            "Requirement already satisfied: nvidia-cuda-runtime-cu12==12.4.127 in /usr/local/lib/python3.11/dist-packages (from torch) (12.4.127)\n",
            "Requirement already satisfied: nvidia-cuda-cupti-cu12==12.4.127 in /usr/local/lib/python3.11/dist-packages (from torch) (12.4.127)\n",
            "Requirement already satisfied: nvidia-cudnn-cu12==9.1.0.70 in /usr/local/lib/python3.11/dist-packages (from torch) (9.1.0.70)\n",
            "Requirement already satisfied: nvidia-cublas-cu12==12.4.5.8 in /usr/local/lib/python3.11/dist-packages (from torch) (12.4.5.8)\n",
            "Requirement already satisfied: nvidia-cufft-cu12==11.2.1.3 in /usr/local/lib/python3.11/dist-packages (from torch) (11.2.1.3)\n",
            "Requirement already satisfied: nvidia-curand-cu12==10.3.5.147 in /usr/local/lib/python3.11/dist-packages (from torch) (10.3.5.147)\n",
            "Requirement already satisfied: nvidia-cusolver-cu12==11.6.1.9 in /usr/local/lib/python3.11/dist-packages (from torch) (11.6.1.9)\n",
            "Requirement already satisfied: nvidia-cusparse-cu12==12.3.1.170 in /usr/local/lib/python3.11/dist-packages (from torch) (12.3.1.170)\n",
            "Requirement already satisfied: nvidia-nccl-cu12==2.21.5 in /usr/local/lib/python3.11/dist-packages (from torch) (2.21.5)\n",
            "Requirement already satisfied: nvidia-nvtx-cu12==12.4.127 in /usr/local/lib/python3.11/dist-packages (from torch) (12.4.127)\n",
            "Requirement already satisfied: nvidia-nvjitlink-cu12==12.4.127 in /usr/local/lib/python3.11/dist-packages (from torch) (12.4.127)\n",
            "Requirement already satisfied: triton==3.1.0 in /usr/local/lib/python3.11/dist-packages (from torch) (3.1.0)\n",
            "Requirement already satisfied: sympy==1.13.1 in /usr/local/lib/python3.11/dist-packages (from torch) (1.13.1)\n",
            "Requirement already satisfied: mpmath<1.4,>=1.1.0 in /usr/local/lib/python3.11/dist-packages (from sympy==1.13.1->torch) (1.3.0)\n",
            "Requirement already satisfied: huggingface-hub<1.0,>=0.24.0 in /usr/local/lib/python3.11/dist-packages (from transformers) (0.28.1)\n",
            "Requirement already satisfied: numpy>=1.17 in /usr/local/lib/python3.11/dist-packages (from transformers) (1.26.4)\n",
            "Requirement already satisfied: packaging>=20.0 in /usr/local/lib/python3.11/dist-packages (from transformers) (24.2)\n",
            "Requirement already satisfied: pyyaml>=5.1 in /usr/local/lib/python3.11/dist-packages (from transformers) (6.0.2)\n",
            "Requirement already satisfied: regex!=2019.12.17 in /usr/local/lib/python3.11/dist-packages (from transformers) (2024.11.6)\n",
            "Requirement already satisfied: requests in /usr/local/lib/python3.11/dist-packages (from transformers) (2.32.3)\n",
            "Requirement already satisfied: tokenizers<0.22,>=0.21 in /usr/local/lib/python3.11/dist-packages (from transformers) (0.21.0)\n",
            "Requirement already satisfied: safetensors>=0.4.1 in /usr/local/lib/python3.11/dist-packages (from transformers) (0.5.3)\n",
            "Requirement already satisfied: tqdm>=4.27 in /usr/local/lib/python3.11/dist-packages (from transformers) (4.67.1)\n",
            "Requirement already satisfied: torchvision>=0.5 in /usr/local/lib/python3.11/dist-packages (from easyocr) (0.20.1+cu124)\n",
            "Requirement already satisfied: opencv-python-headless in /usr/local/lib/python3.11/dist-packages (from easyocr) (4.11.0.86)\n",
            "Requirement already satisfied: scipy in /usr/local/lib/python3.11/dist-packages (from easyocr) (1.14.1)\n",
            "Requirement already satisfied: Pillow in /usr/local/lib/python3.11/dist-packages (from easyocr) (11.1.0)\n",
            "Requirement already satisfied: scikit-image in /usr/local/lib/python3.11/dist-packages (from easyocr) (0.25.2)\n",
            "Requirement already satisfied: python-bidi in /usr/local/lib/python3.11/dist-packages (from easyocr) (0.6.6)\n",
            "Requirement already satisfied: Shapely in /usr/local/lib/python3.11/dist-packages (from easyocr) (2.0.7)\n",
            "Requirement already satisfied: pyclipper in /usr/local/lib/python3.11/dist-packages (from easyocr) (1.3.0.post6)\n",
            "Requirement already satisfied: ninja in /usr/local/lib/python3.11/dist-packages (from easyocr) (1.11.1.3)\n",
            "Requirement already satisfied: joblib>=1.0 in /usr/local/lib/python3.11/dist-packages (from hdbscan) (1.4.2)\n",
            "Requirement already satisfied: python-dateutil>=2.8.2 in /usr/local/lib/python3.11/dist-packages (from pandas) (2.8.2)\n",
            "Requirement already satisfied: pytz>=2020.1 in /usr/local/lib/python3.11/dist-packages (from pandas) (2025.1)\n",
            "Requirement already satisfied: tzdata>=2022.7 in /usr/local/lib/python3.11/dist-packages (from pandas) (2025.1)\n",
            "Requirement already satisfied: contourpy>=1.0.1 in /usr/local/lib/python3.11/dist-packages (from matplotlib) (1.3.1)\n",
            "Requirement already satisfied: cycler>=0.10 in /usr/local/lib/python3.11/dist-packages (from matplotlib) (0.12.1)\n",
            "Requirement already satisfied: fonttools>=4.22.0 in /usr/local/lib/python3.11/dist-packages (from matplotlib) (4.56.0)\n",
            "Requirement already satisfied: kiwisolver>=1.3.1 in /usr/local/lib/python3.11/dist-packages (from matplotlib) (1.4.8)\n",
            "Requirement already satisfied: pyparsing>=2.3.1 in /usr/local/lib/python3.11/dist-packages (from matplotlib) (3.2.1)\n",
            "Requirement already satisfied: threadpoolctl>=3.1.0 in /usr/local/lib/python3.11/dist-packages (from scikit-learn) (3.5.0)\n",
            "Requirement already satisfied: asgiref<4,>=3.8.1 in /usr/local/lib/python3.11/dist-packages (from django) (3.8.1)\n",
            "Requirement already satisfied: sqlparse>=0.3.1 in /usr/local/lib/python3.11/dist-packages (from django) (0.5.3)\n",
            "Requirement already satisfied: six>=1.5 in /usr/local/lib/python3.11/dist-packages (from python-dateutil>=2.8.2->pandas) (1.17.0)\n",
            "Requirement already satisfied: MarkupSafe>=2.0 in /usr/local/lib/python3.11/dist-packages (from jinja2->torch) (3.0.2)\n",
            "Requirement already satisfied: charset-normalizer<4,>=2 in /usr/local/lib/python3.11/dist-packages (from requests->transformers) (3.4.1)\n",
            "Requirement already satisfied: idna<4,>=2.5 in /usr/local/lib/python3.11/dist-packages (from requests->transformers) (3.10)\n",
            "Requirement already satisfied: urllib3<3,>=1.21.1 in /usr/local/lib/python3.11/dist-packages (from requests->transformers) (2.3.0)\n",
            "Requirement already satisfied: certifi>=2017.4.17 in /usr/local/lib/python3.11/dist-packages (from requests->transformers) (2025.1.31)\n",
            "Requirement already satisfied: imageio!=2.35.0,>=2.33 in /usr/local/lib/python3.11/dist-packages (from scikit-image->easyocr) (2.37.0)\n",
            "Requirement already satisfied: tifffile>=2022.8.12 in /usr/local/lib/python3.11/dist-packages (from scikit-image->easyocr) (2025.2.18)\n",
            "Requirement already satisfied: lazy-loader>=0.4 in /usr/local/lib/python3.11/dist-packages (from scikit-image->easyocr) (0.4)\n",
            "Reading package lists... Done\n",
            "Building dependency tree... Done\n",
            "Reading state information... Done\n",
            "The following NEW packages will be installed:\n",
            "  poppler-utils\n",
            "0 upgraded, 1 newly installed, 0 to remove and 29 not upgraded.\n",
            "Need to get 186 kB of archives.\n",
            "After this operation, 696 kB of additional disk space will be used.\n",
            "Get:1 http://archive.ubuntu.com/ubuntu jammy-updates/main amd64 poppler-utils amd64 22.02.0-2ubuntu0.6 [186 kB]\n",
            "Fetched 186 kB in 1s (226 kB/s)\n",
            "Selecting previously unselected package poppler-utils.\n",
            "(Reading database ... 124947 files and directories currently installed.)\n",
            "Preparing to unpack .../poppler-utils_22.02.0-2ubuntu0.6_amd64.deb ...\n",
            "Unpacking poppler-utils (22.02.0-2ubuntu0.6) ...\n",
            "Setting up poppler-utils (22.02.0-2ubuntu0.6) ...\n",
            "Processing triggers for man-db (2.10.2-1) ...\n"
          ]
        }
      ],
      "source": [
        "!pip install torch transformers easyocr pdf2image hdbscan pandas matplotlib seaborn scikit-learn django djangorestframework\n",
        "!apt-get install poppler-utils"
      ]
    },
    {
      "cell_type": "code",
      "source": [
        "import torch\n",
        "import easyocr\n",
        "import hdbscan\n",
        "import pandas as pd\n",
        "import matplotlib.pyplot as plt\n",
        "import seaborn as sns\n",
        "from transformers import DistilBertTokenizer, DistilBertForSequenceClassification\n",
        "from pdf2image import convert_from_path\n",
        "from concurrent.futures import ThreadPoolExecutor\n",
        "from sklearn.preprocessing import LabelEncoder\n",
        "import time\n",
        "import io\n",
        "import base64\n",
        "import os\n",
        "import numpy as np\n",
        "from PIL import Image\n",
        "from IPython.display import Image, display\n",
        "\n",
        "# Load DistilBERT Model (Optimized for Speed)\n",
        "class DiseaseClassifier:\n",
        "    def __init__(self, model_name=\"distilbert-base-uncased\"):\n",
        "        self.tokenizer = DistilBertTokenizer.from_pretrained(model_name)\n",
        "        self.model = DistilBertForSequenceClassification.from_pretrained(model_name, num_labels=10)\n",
        "        self.model.eval()\n",
        "\n",
        "    def predict_disease(self, text):\n",
        "        inputs = self.tokenizer(text, return_tensors=\"pt\", truncation=True, padding=True)\n",
        "        with torch.no_grad():\n",
        "            outputs = self.model(**inputs)\n",
        "        predicted_label = torch.argmax(outputs.logits).item()\n",
        "        return predicted_label  # Map this to actual disease names\n",
        "\n",
        "classifier = DiseaseClassifier()\n",
        "\n",
        "# Faster OCR with EasyOCR\n",
        "reader = easyocr.Reader([\"en\"], gpu=torch.cuda.is_available())\n",
        "\n",
        "def extract_text_from_pdf(pdf_path):\n",
        "    images = convert_from_path(pdf_path)\n",
        "    all_text = []\n",
        "    for image in images:\n",
        "        image_np = np.array(image)\n",
        "        result = reader.readtext(image_np)\n",
        "        page_text = \" \".join([entry[1] for entry in result])\n",
        "        all_text.append(page_text)\n",
        "    return \" \".join(all_text)\n",
        "\n",
        "def get_disease_trends(pdf_paths, pin_codes):\n",
        "    data = []\n",
        "    for pdf_path, pin_code in zip(pdf_paths, pin_codes):\n",
        "        text = extract_text_from_pdf(pdf_path)\n",
        "        extracted_disease = classifier.predict_disease(text)\n",
        "        data.append({\"pin_code\": pin_code, \"extracted_disease\": extracted_disease})\n",
        "\n",
        "    df = pd.DataFrame(data)\n",
        "    if df.empty:\n",
        "        print(\"No data available.\")\n",
        "        return\n",
        "\n",
        "    label_encoder = LabelEncoder()\n",
        "    df[\"extracted_disease_encoded\"] = label_encoder.fit_transform(df[\"extracted_disease\"])\n",
        "    clusterer = hdbscan.HDBSCAN(min_cluster_size=2)  # Corrected min_cluster_size\n",
        "    df[\"cluster\"] = clusterer.fit_predict(df[[\"extracted_disease_encoded\"]])\n",
        "\n",
        "    plt.figure(figsize=(10, 6))\n",
        "    sns.scatterplot(data=df, x=\"pin_code\", y=\"extracted_disease_encoded\", hue=\"cluster\", palette=\"viridis\")\n",
        "    plt.title(\"Disease Clustering by Pin Code\")\n",
        "    plt.xlabel(\"Pin Code\")\n",
        "    plt.ylabel(\"Disease Category\")\n",
        "\n",
        "    buf = io.BytesIO()\n",
        "    plt.savefig(buf, format='png')\n",
        "    buf.seek(0)\n",
        "    image_base64 = base64.b64encode(buf.read()).decode('utf-8')\n",
        "    plt.close()\n",
        "\n",
        "    return {\"trends\": df.to_dict(\"records\"), \"plot\": image_base64}\n",
        "\n",
        "def test_performance(pdf_paths):\n",
        "    total_time = 0\n",
        "    for pdf_path in pdf_paths:\n",
        "        start_time = time.time()\n",
        "        text = extract_text_from_pdf(pdf_path)\n",
        "        disease = classifier.predict_disease(text)\n",
        "        end_time = time.time()\n",
        "        total_time += end_time - start_time\n",
        "        print(f\"PDF: {pdf_path}, Disease: {disease}, Time: {end_time - start_time:.4f} seconds\")\n",
        "    average_time = total_time / len(pdf_paths)\n",
        "    print(f\"Average Inference Time: {average_time:.4f} seconds\")\n",
        "\n",
        "# Sample PDF Paths (Replace with your actual uploaded file names)\n",
        "sample_pdfs = [\"sample1.pdf\", \"sample2.pdf\", \"sample3.pdf\", \"sample4.pdf\", \"sample5.pdf\"]\n",
        "sample_pin_codes = [\"10001\", \"10002\", \"10001\", \"10003\", \"10002\"]\n",
        "\n",
        "# Run Performance Test\n",
        "test_performance(sample_pdfs)\n",
        "\n",
        "# Run Clustering and get plot\n",
        "results = get_disease_trends(sample_pdfs, sample_pin_codes)\n",
        "if results:\n",
        "    print(results[\"trends\"])\n",
        "    with open(\"disease_trends.png\", \"wb\") as fh:\n",
        "        fh.write(base64.b64decode(results['plot']))\n",
        "    print(\"plot saved as disease_trends.png\")\n",
        "    display(Image('disease_trends.png'))"
      ],
      "metadata": {
        "colab": {
          "base_uri": "https://localhost:8080/",
          "height": 674
        },
        "id": "F4A2QsqqPAau",
        "outputId": "27af6e3d-c633-4ff5-df49-bc76d65190c9"
      },
      "execution_count": 6,
      "outputs": [
        {
          "output_type": "stream",
          "name": "stderr",
          "text": [
            "Some weights of DistilBertForSequenceClassification were not initialized from the model checkpoint at distilbert-base-uncased and are newly initialized: ['classifier.bias', 'classifier.weight', 'pre_classifier.bias', 'pre_classifier.weight']\n",
            "You should probably TRAIN this model on a down-stream task to be able to use it for predictions and inference.\n",
            "WARNING:easyocr.easyocr:Using CPU. Note: This module is much faster with a GPU.\n"
          ]
        },
        {
          "output_type": "stream",
          "name": "stdout",
          "text": [
            "PDF: sample1.pdf, Disease: 3, Time: 78.6631 seconds\n",
            "PDF: sample2.pdf, Disease: 3, Time: 82.9667 seconds\n",
            "PDF: sample3.pdf, Disease: 3, Time: 72.1088 seconds\n",
            "PDF: sample4.pdf, Disease: 3, Time: 80.6564 seconds\n",
            "PDF: sample5.pdf, Disease: 3, Time: 71.4179 seconds\n",
            "Average Inference Time: 77.1626 seconds\n"
          ]
        },
        {
          "output_type": "stream",
          "name": "stderr",
          "text": [
            "/usr/local/lib/python3.11/dist-packages/sklearn/utils/deprecation.py:151: FutureWarning: 'force_all_finite' was renamed to 'ensure_all_finite' in 1.6 and will be removed in 1.8.\n",
            "  warnings.warn(\n",
            "/usr/local/lib/python3.11/dist-packages/sklearn/utils/deprecation.py:151: FutureWarning: 'force_all_finite' was renamed to 'ensure_all_finite' in 1.6 and will be removed in 1.8.\n",
            "  warnings.warn(\n"
          ]
        },
        {
          "output_type": "stream",
          "name": "stdout",
          "text": [
            "[{'pin_code': '10001', 'extracted_disease': 3, 'extracted_disease_encoded': 0, 'cluster': -1}, {'pin_code': '10002', 'extracted_disease': 3, 'extracted_disease_encoded': 0, 'cluster': -1}, {'pin_code': '10001', 'extracted_disease': 3, 'extracted_disease_encoded': 0, 'cluster': -1}, {'pin_code': '10003', 'extracted_disease': 3, 'extracted_disease_encoded': 0, 'cluster': -1}, {'pin_code': '10002', 'extracted_disease': 3, 'extracted_disease_encoded': 0, 'cluster': -1}]\n",
            "plot saved as disease_trends.png\n"
          ]
        },
        {
          "output_type": "display_data",
          "data": {
            "image/png": "[encoded data removed]",
            "text/plain": [
              "<IPython.core.display.Image object>"
            ]
          },
          "metadata": {}
        }
      ]
    }
  ]
}